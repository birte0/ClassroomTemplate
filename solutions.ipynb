{
 "cells": [
  {
   "cell_type": "markdown",
   "id": "dd7d8bb2",
   "metadata": {},
   "source": [
    "![head.png](https://github.com/iwh-halle/FinancialDataAnalytics/blob/master/figures/head.jpg?raw=1)\n",
    "\n",
    "# Financial Data Analytics in Python\n",
    "\n",
    "**Prof. Dr. Fabian Woebbeking**</br>\n",
    "Assistant Professor of Financial Economics\n",
    "\n",
    "IWH - Leibniz Institute for Economic Research</br>\n",
    "MLU - Martin Luther University Halle-Wittenberg\n",
    "\n",
    "fabian.woebbeking@iwh-halle.de"
   ]
  },
  {
   "cell_type": "markdown",
   "id": "6ea15b41",
   "metadata": {},
   "source": [
    "## Please follow these rules:\n",
    "\n",
    "1. Do not write any text output using `print(\"text\")`. Only print **numeric or variable results**.\n",
    "2. Do **not** round results at any point in your calculations.\n",
    "3. Each step of your work must be visible and printed. For example: \n",
    "```python\n",
    "result = 1/3\n",
    "print(result)\n",
    "```\n",
    "4. Do not **change or remove the last code cell**. It is necessary for conversion and grading.\n",
    "5. Do not suppress output with semicolons.\n"
   ]
  },
  {
   "cell_type": "markdown",
   "id": "344d4b4a",
   "metadata": {},
   "source": [
    "# Homework Solution \n",
    "\n",
    "From this point onward, you may start adding your solutions to the tasks below.  \n",
    "Please follow the instructions exactly to ensure your submission is autograded correctly."
   ]
  },
  {
   "cell_type": "markdown",
   "id": "02bfc1f7",
   "metadata": {},
   "source": [
    "# Example Markdown: \n",
    "\n",
    "## Task 1.1: "
   ]
  },
  {
   "cell_type": "code",
   "execution_count": 5,
   "id": "e08d21df",
   "metadata": {},
   "outputs": [
    {
     "name": "stdout",
     "output_type": "stream",
     "text": [
      "2\n"
     ]
    }
   ],
   "source": [
    "# example code cell \n",
    "x = 1+1 \n",
    "print(x)"
   ]
  },
  {
   "cell_type": "markdown",
   "id": "41e2f1a5",
   "metadata": {},
   "source": [
    "<div style=\"color: red; font-weight: bold; font-size: 18px\">\n",
    "⚠️ DO NOT MODIFY THE CODE BLOCK BELOW THIS CELL.  \n",
    "IT MUST REMAIN UNCHANGED AND MUST BE RUN ONCE YOUR HOMEWORK IS COMPLETE AND READY TO SUBMIT.\n",
    "</div>\n",
    "\n",
    "This block converts your notebook to a `.py` file for GitHub Classroom autograding."
   ]
  },
  {
   "cell_type": "code",
   "execution_count": 6,
   "id": "b06104de",
   "metadata": {},
   "outputs": [],
   "source": [
    "try:\n",
    "    # If we're in Jupyter, get_ipython() will exist\n",
    "    shell = get_ipython().__class__.__name__\n",
    "    if shell == 'ZMQInteractiveShell':\n",
    "        # Notebook-specific code here\n",
    "        import os\n",
    "        os.system('jupyter nbconvert solution.ipynb --to script')\n",
    "except NameError:\n",
    "    # If get_ipython() is not defined, we're likely running as .py script\n",
    "    pass"
   ]
  },
  {
   "cell_type": "code",
   "execution_count": null,
   "id": "3f11ffe5",
   "metadata": {},
   "outputs": [],
   "source": []
  }
 ],
 "metadata": {
  "kernelspec": {
   "display_name": "Python 3 (ipykernel)",
   "language": "python",
   "name": "python3"
  },
  "language_info": {
   "codemirror_mode": {
    "name": "ipython",
    "version": 3
   },
   "file_extension": ".py",
   "mimetype": "text/x-python",
   "name": "python",
   "nbconvert_exporter": "python",
   "pygments_lexer": "ipython3",
   "version": "3.10.9"
  }
 },
 "nbformat": 4,
 "nbformat_minor": 5
}
